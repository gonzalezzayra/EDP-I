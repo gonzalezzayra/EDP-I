{
  "nbformat": 4,
  "nbformat_minor": 0,
  "metadata": {
    "colab": {
      "provenance": [],
      "authorship_tag": "ABX9TyOpdAEu3OJRlCqF9suztxZg",
      "include_colab_link": true
    },
    "kernelspec": {
      "name": "python3",
      "display_name": "Python 3"
    },
    "language_info": {
      "name": "python"
    }
  },
  "cells": [
    {
      "cell_type": "markdown",
      "metadata": {
        "id": "view-in-github",
        "colab_type": "text"
      },
      "source": [
        "<a href=\"https://colab.research.google.com/github/gonzalezzayra/EDP-I/blob/main/Ecuaci%C3%B3n_Hiperb%C3%B3lica.ipynb\" target=\"_parent\"><img src=\"https://colab.research.google.com/assets/colab-badge.svg\" alt=\"Open In Colab\"/></a>"
      ]
    },
    {
      "cell_type": "markdown",
      "source": [
        "**Ecuación Hiperbólica**"
      ],
      "metadata": {
        "id": "IGOHk25RWIFl"
      }
    },
    {
      "cell_type": "markdown",
      "source": [
        "$$\\xi = -(B + \\sqrt{B^2 -4AC})x +2Ay$$\n",
        "\n",
        "$$\\xi = -(B - \\sqrt{B^2 -4AC})x +2Ay$$\n",
        "\n",
        "$\\text{Ejemplo:}$\n",
        "\n",
        "$$u_{xx} - 4u_{xy} + 4u_{yy} + 2u_{x} + u_{y} + u = 0$$\n",
        "\n"
      ],
      "metadata": {
        "id": "C30yt9rDWRMl"
      }
    },
    {
      "cell_type": "markdown",
      "source": [
        "*lo quería hacer diferente Profesor Oompa Loompa, pero no alcanzó el tiempo, una disculpa*"
      ],
      "metadata": {
        "id": "wfeUQ9sZkXOx"
      }
    },
    {
      "cell_type": "code",
      "source": [
        "import sympy as sp\n",
        "import numpy as np\n",
        "\n",
        "#Au_xx + Bu_xy + Cu_yy + Du_x +\n",
        "# Problema 1: Solución general de u_xx - 3 u_xy -10 u_yy = 0\n",
        "x, y = sp.symbols('x y')\n",
        "u = sp.Function('u')(x,y)\n",
        "\n",
        "#Calculamos el discriminante o indicador\n",
        "a = 1\n",
        "b = -3\n",
        "c = -10\n",
        "\n",
        "ind = (b**2)-(4*a*c)\n",
        "\n",
        "print(\"El valor del inidcador es:\",ind)\n",
        "\n",
        "if ind== 0:\n",
        "  print(\"Es Parabolica\")\n",
        "elif  ind > 0:\n",
        "  print(\"Es Hiperbolica\")\n",
        "else:\n",
        "  print(\"Es Elíptica\")\n",
        "\n",
        "# Definir transformación para forma canónica (caso parabólico)\n",
        "xi = sp.symbols('xi')\n",
        "eta = sp.symbols('eta')\n",
        "xi_expr = -4*x + 2*y  # ξ = -4x + 2y\n",
        "eta_expr = 10*x + 2*y       # η = 10x + 2y\n",
        "\n",
        "print(\"\\n2. Usamos:\")\n",
        "print(f\"   ξ = {xi_expr}\")\n",
        "print(f\"   η = {eta_expr}\")\n",
        "\n",
        "# Expresar EDP en nuevas coordenadas\n",
        "U = sp.Function('U')(xi, eta)\n",
        "\n",
        "# Reglas de transformación\n",
        "reglas = {\n",
        "    sp.Derivative(u, x): -4*sp.Derivative(U, xi) + 2*sp.Derivative(U, eta),\n",
        "    sp.Derivative(u, y): 10*sp.Derivative(U, xi) + 2*sp.Derivative(U, eta)\n",
        "}\n",
        "\n",
        "# Calcular derivadas de orden superior\n",
        "uxx = sp.Derivative(u, x, x).doit().subs(reglas).doit()\n",
        "uxy = sp.Derivative(u, x, y).doit().subs(reglas).doit()\n",
        "uyy = sp.Derivative(u, y, y).doit().subs(reglas).doit()\n",
        "ux = sp.Derivative(u, x).doit().subs(reglas)\n",
        "uy = sp.Derivative(u, y).doit().subs(reglas)\n",
        "\n",
        "\n",
        "# Sustituir en la EDP original\n",
        "edp_original = uxx - 3*uxy  -10*uyy\n",
        "edp_transformada = edp_original.subs({u: U}).doit()\n",
        "\n",
        "# Simplificar la expresión\n",
        "edp_canonica = sp.simplify(edp_transformada)\n",
        "edp_canonica = sp.collect(edp_canonica, sp.Derivative(U, (eta, 2)))\n",
        "\n",
        "print(\"\\n3. Forma canónica de la EDP:\")\n",
        "print(f\"   {edp_canonica} = 0\")\n"
      ],
      "metadata": {
        "colab": {
          "base_uri": "https://localhost:8080/"
        },
        "id": "nL8XS1dkeYBR",
        "outputId": "fb78c813-b50a-441c-c3e0-f09c0a2fe93e"
      },
      "execution_count": 31,
      "outputs": [
        {
          "output_type": "stream",
          "name": "stdout",
          "text": [
            "El valor del inidcador es: 49\n",
            "Es Hiperbolica\n",
            "\n",
            "2. Usamos:\n",
            "   ξ = -4*x + 2*y\n",
            "   η = 10*x + 2*y\n",
            "\n",
            "3. Forma canónica de la EDP:\n",
            "   0 = 0\n"
          ]
        }
      ]
    }
  ]
}