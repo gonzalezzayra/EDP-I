{
  "nbformat": 4,
  "nbformat_minor": 0,
  "metadata": {
    "colab": {
      "provenance": [],
      "authorship_tag": "ABX9TyPDaB4cVcCrsY5hQ18DlLOD",
      "include_colab_link": true
    },
    "kernelspec": {
      "name": "python3",
      "display_name": "Python 3"
    },
    "language_info": {
      "name": "python"
    }
  },
  "cells": [
    {
      "cell_type": "markdown",
      "metadata": {
        "id": "view-in-github",
        "colab_type": "text"
      },
      "source": [
        "<a href=\"https://colab.research.google.com/github/gonzalezzayra/EDP-I/blob/main/fourier_generalizada.ipynb\" target=\"_parent\"><img src=\"https://colab.research.google.com/assets/colab-badge.svg\" alt=\"Open In Colab\"/></a>"
      ]
    },
    {
      "cell_type": "markdown",
      "source": [
        "**Fourier generalizada**\n",
        "\n",
        "a)Verificar que el siguiente es un problema de Sturm-Liouville y resolverlo:\n",
        "\n",
        "$$f''(x) + 2 f'(x) + \\lambda f(x) =0,  \\text{  } 0 < x < 1 $$\n",
        "\n",
        "$$f(0) = 0, \\text{ } f(1) = 0 $$\n",
        "\n",
        "b) Usar las eigenfunciones de este problema para expandir en series de Fourier generalizadas la función:\n",
        "\n",
        "$$u(x) = e^{-x}, \\text{ } 0 \\leq x \\leq 1$$\n"
      ],
      "metadata": {
        "id": "VnMkL-PuIkn3"
      }
    },
    {
      "cell_type": "code",
      "execution_count": null,
      "metadata": {
        "id": "CUNLSSZoIhpd"
      },
      "outputs": [],
      "source": [
        "#Importar librerias\n",
        "from sympy import *\n",
        "import sympy as sp\n",
        "import scipy\n",
        "import numpy as np\n",
        "import matplotlib as mpl\n",
        "import matplotlib.pyplot as plt"
      ]
    },
    {
      "cell_type": "code",
      "source": [
        "#utilizamos f, x, k, definimos\n",
        "x = sp.symbols('x')\n",
        "k = sp.symbols('k', positive=True)  #Definimos lambda positiva\n",
        "f = sp.Function('f')\n",
        "#si el problema hubiera sido f\"(x)+ 2*f'(x) +k*f(x) =0"
      ],
      "metadata": {
        "id": "l24Fkd3cKQ3F"
      },
      "execution_count": null,
      "outputs": []
    },
    {
      "cell_type": "code",
      "source": [
        "ode1 = sp.Eq(sp.Derivative(f(x), x, x) +  2 * sp.Derivative(f(x), x) + k * f(x), 0)\n",
        "sol1 = sp.dsolve(ode1, f(x))  # Solución general\n",
        "C1, C2 = sp.symbols('C1 C2')\n",
        "\n",
        "#print(ode1)\n",
        "sol1"
      ],
      "metadata": {
        "colab": {
          "base_uri": "https://localhost:8080/",
          "height": 42
        },
        "id": "i6QF9rJ_LA19",
        "outputId": "bc902dca-3b80-4215-f634-7597ad1d5bbc"
      },
      "execution_count": null,
      "outputs": [
        {
          "output_type": "execute_result",
          "data": {
            "text/plain": [
              "Eq(f(x), C1*exp(x*(sqrt(1 - k) - 1)) + C2*exp(-x*(sqrt(1 - k) + 1)))"
            ],
            "text/latex": "$\\displaystyle f{\\left(x \\right)} = C_{1} e^{x \\left(\\sqrt{1 - k} - 1\\right)} + C_{2} e^{- x \\left(\\sqrt{1 - k} + 1\\right)}$"
          },
          "metadata": {},
          "execution_count": 22
        }
      ]
    },
    {
      "cell_type": "code",
      "source": [
        "#Condiciones de frontera del problema 1\n",
        "#f(0)=0, f(1)=0\n",
        "cond1 = sol1.rhs.subs(x, 0)\n",
        "cond2 = sol1.rhs.subs(x, 1)"
      ],
      "metadata": {
        "id": "UnnTKsxbMxbz"
      },
      "execution_count": null,
      "outputs": []
    },
    {
      "cell_type": "code",
      "source": [
        "const = sp.solve([cond1, cond2], [C1, C2])\n",
        "\n",
        "const\n"
      ],
      "metadata": {
        "colab": {
          "base_uri": "https://localhost:8080/"
        },
        "id": "-WayUh8yM-ri",
        "outputId": "4d86dd67-334d-409c-cd49-e8ea3d39ffc6"
      },
      "execution_count": null,
      "outputs": [
        {
          "output_type": "execute_result",
          "data": {
            "text/plain": [
              "{C1: 0, C2: 0}"
            ]
          },
          "metadata": {},
          "execution_count": 24
        }
      ]
    },
    {
      "cell_type": "code",
      "source": [
        "#Resolvemos para x(1-k)**1/2 -1\n",
        "valor_n = [1, 2, 3]\n",
        "\n",
        "valor_k=[]\n",
        "for n in valor_n:\n",
        "    valor_k.append(1 + ((n)*(pi))**2)\n",
        "print(\"Los valores de k=\", valor_k)"
      ],
      "metadata": {
        "colab": {
          "base_uri": "https://localhost:8080/"
        },
        "id": "vGviVe-dNIdq",
        "outputId": "f0d84840-6444-4729-a4b2-d3f0b81b8fb1"
      },
      "execution_count": null,
      "outputs": [
        {
          "output_type": "stream",
          "name": "stdout",
          "text": [
            "Los valores de k= [1 + pi**2, 1 + 4*pi**2, 1 + 9*pi**2]\n"
          ]
        }
      ]
    },
    {
      "cell_type": "code",
      "source": [
        "#f(x)=(e**-x)*sen(n*pi*x), evaluamos en los valores de n, que son 1,3 y 5\n",
        "sens1=[]\n",
        "for n in valor_n:\n",
        "    sens1.append((exp(-x))*sin(n * pi * x))\n",
        "print(sens1)"
      ],
      "metadata": {
        "colab": {
          "base_uri": "https://localhost:8080/"
        },
        "id": "eQDN_yiMN89S",
        "outputId": "a99c80e5-20c1-4ac9-cbbc-cf5ca1f75810"
      },
      "execution_count": null,
      "outputs": [
        {
          "output_type": "stream",
          "name": "stdout",
          "text": [
            "[exp(-x)*sin(pi*x), exp(-x)*sin(2*pi*x), exp(-x)*sin(3*pi*x)]\n"
          ]
        }
      ]
    },
    {
      "cell_type": "markdown",
      "source": [
        "**Lo intenté con mi código pasado y es lo mejor que pude, fue confuso,pero un compañere me paso el siguiente, es un mensaje para el Profesor Oompa Loompa. Perdonenbme por copiar, lo intentaré después**"
      ],
      "metadata": {
        "id": "cb5GOmN-Vy2I"
      }
    },
    {
      "cell_type": "code",
      "source": [
        "import sympy as sp\n",
        "import matplotlib.pyplot as plt\n",
        "import numpy as np\n",
        "\n",
        "#Variables simbólicas\n",
        "x, lam = sp.symbols('x lambda', real=True)\n",
        "f = sp.Function('f')\n",
        "\n",
        "#Resolver la ecuación diferencial\n",
        "\n",
        "f_general = sp.dsolve(f(x).diff(x, 2) + 2*f(x).diff(x) + lam*f(x), f(x))\n",
        "print(\"Solución general de la EDO:\")\n",
        "sp.pprint(f_general)\n",
        "\n",
        "#Asumir f(x) = e^{-x}*y(x), que elimina el término de primer orden\n",
        "y = sp.Function('y')\n",
        "substituted = sp.dsolve(sp.diff(y(x), x, 2) + (lam - 1)*y(x), y(x))\n",
        "print(\"\\nSolución reducida por sustitución f = e^{-x}*y:\")\n",
        "sp.pprint(substituted)\n"
      ],
      "metadata": {
        "colab": {
          "base_uri": "https://localhost:8080/"
        },
        "id": "XfJ88O_6VJap",
        "outputId": "f70b61f3-e2cc-4b8b-866f-4cf5ce1fbb1d"
      },
      "execution_count": 34,
      "outputs": [
        {
          "output_type": "stream",
          "name": "stdout",
          "text": [
            "Solución general de la EDO:\n",
            "             ⎛  _______    ⎞          ⎛  _______    ⎞\n",
            "           x⋅⎝╲╱ 1 - λ  - 1⎠       -x⋅⎝╲╱ 1 - λ  + 1⎠\n",
            "f(x) = C₁⋅ℯ                  + C₂⋅ℯ                  \n",
            "\n",
            "Solución reducida por sustitución f = e^{-x}*y:\n",
            "                _______           _______\n",
            "           -x⋅╲╱ 1 - λ        x⋅╲╱ 1 - λ \n",
            "y(x) = C₁⋅ℯ             + C₂⋅ℯ           \n"
          ]
        }
      ]
    },
    {
      "cell_type": "code",
      "source": [
        "\n",
        "# La solución general es: f(x) = e^{-x}(C1*sin(mu*x) + C2*cos(mu*x)), con mu = sqrt(lambda - 1)\n",
        "\n",
        "# Aplicar condiciones de frontera:\n",
        "mu = sp.symbols('mu', positive=True, real=True)\n",
        "C1, C2 = sp.symbols('C1 C2')\n",
        "f_expr = sp.exp(-x) * (C1*sp.sin(mu*x) + C2*sp.cos(mu*x))\n",
        "\n",
        "# f(0) = 0 => C2 = 0\n",
        "f_expr = f_expr.subs(C2, 0)\n",
        "\n",
        "# f(1) = 0 => sin(mu) = 0 => mu = n*pi\n",
        "n = sp.symbols('n', integer=True, positive=True)\n",
        "mu_n = n*sp.pi\n",
        "lambda_n = 1 + mu_n**2\n",
        "\n",
        "# Eigenfunciones:\n",
        "phi_n = sp.exp(-x)*sp.sin(mu_n*x)\n",
        "\n",
        "# Parte (b): Expandir u(x) = e^{-x} en serie generalizada de Fourier\n",
        "u = sp.exp(-x)\n",
        "r = sp.exp(2*x) # peso r(x) = e^{2x}\n",
        "\n",
        "# Calcular coeficientes a_n = <u, phi_n> / <phi_n, phi_n>\n",
        "def inner_product(f1, f2):\n",
        "    return sp.integrate(f1 * f2 * r, (x, 0, 1))\n",
        "\n",
        "a_n = inner_product(u, phi_n) / inner_product(phi_n, phi_n)\n",
        "a_n_simplified = sp.simplify(a_n)\n",
        "print(\"\\nCoeficiente general a_n:\")\n",
        "sp.pprint(a_n_simplified)\n",
        "\n",
        "# Visualización\n",
        "# Graficar los primeros 5 términos de la serie de Fourier\n",
        "f_fourier = sum([\n",
        "a_n_simplified.subs(n, i) * phi_n.subs(n, i)\n",
        "for i in range(1, 6)\n",
        "])\n",
        "f_fourier_func = sp.lambdify(x, f_fourier, 'numpy')\n",
        "u_func = sp.lambdify(x, u, 'numpy')\n",
        "\n",
        "x_vals = np.linspace(0, 1, 400)\n",
        "plt.plot(x_vals, u_func(x_vals), label='u(x) = e^{-x}', linewidth=2)\n",
        "plt.plot(x_vals, f_fourier_func(x_vals), label='Serie de Fourier (5 términos)', linestyle='--')\n",
        "plt.legend()\n",
        "plt.title(\"Expansión de Fourier generalizada\")\n",
        "plt.xlabel(\"x\")\n",
        "plt.ylabel(\"u(x)\")\n",
        "plt.grid(True)\n",
        "plt.show()"
      ],
      "metadata": {
        "colab": {
          "base_uri": "https://localhost:8080/",
          "height": 576
        },
        "id": "NjoSIvHcMV4K",
        "outputId": "b54d4a99-2c66-4782-cef9-cb644b4c4dfe"
      },
      "execution_count": 35,
      "outputs": [
        {
          "output_type": "stream",
          "name": "stdout",
          "text": [
            "\n",
            "Coeficiente general a_n:\n",
            "  ⎛        n⎞\n",
            "2⋅⎝1 - (-1) ⎠\n",
            "─────────────\n",
            "     π⋅n     \n"
          ]
        },
        {
          "output_type": "display_data",
          "data": {
            "text/plain": [
              "<Figure size 640x480 with 1 Axes>"
            ],
            "image/png": "[encoded data removed]"
          },
          "metadata": {}
        }
      ]
    }
  ]
}